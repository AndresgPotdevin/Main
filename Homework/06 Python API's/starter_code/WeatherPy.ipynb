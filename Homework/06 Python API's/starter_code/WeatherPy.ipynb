{
 "cells": [
  {
   "cell_type": "code",
   "execution_count": 38,
   "metadata": {
    "scrolled": true
   },
   "outputs": [],
   "source": [
    "# Dependencies and Setup\n",
    "import matplotlib.pyplot as plt\n",
    "import pandas as pd\n",
    "import numpy as np\n",
    "import requests\n",
    "import time\n",
    "\n",
    "# Import API key\n",
    "import api_keys\n",
    "\n",
    "# Incorporated citipy to determine city based on latitude and longitude\n",
    "from citipy import citipy\n",
    "\n",
    "# Output File (CSV)\n",
    "output_data_file = \"output_data/cities.csv\"\n",
    "\n",
    "# Range of latitudes and longitudes\n",
    "lat_range = (-90, 90)\n",
    "lng_range = (-180, 180)"
   ]
  },
  {
   "cell_type": "markdown",
   "metadata": {},
   "source": [
    "## Generate Cities List"
   ]
  },
  {
   "cell_type": "code",
   "execution_count": 39,
   "metadata": {},
   "outputs": [
    {
     "data": {
      "text/plain": [
       "632"
      ]
     },
     "execution_count": 39,
     "metadata": {},
     "output_type": "execute_result"
    }
   ],
   "source": [
    "# List for holding lat_lngs and cities\n",
    "lat_lngs = []\n",
    "cities = []\n",
    "\n",
    "# Create a set of random lat and lng combinations\n",
    "lats = np.random.uniform(low=-90.000, high=90.000, size=1500)\n",
    "lngs = np.random.uniform(low=-180.000, high=180.000, size=1500)\n",
    "lat_lngs = zip(lats, lngs)\n",
    "\n",
    "# Identify nearest city for each lat, lng combination\n",
    "for lat_lng in lat_lngs:\n",
    "    city = citipy.nearest_city(lat_lng[0], lat_lng[1]).city_name\n",
    "    \n",
    "    # If the city is unique, then add it to a our cities list\n",
    "    if city not in cities:\n",
    "        cities.append(city)\n",
    "\n",
    "# Print the city count to confirm sufficient count\n",
    "len(cities)"
   ]
  },
  {
   "cell_type": "code",
   "execution_count": 40,
   "metadata": {},
   "outputs": [
    {
     "name": "stdout",
     "output_type": "stream",
     "text": [
      "['chuy', 'imbituba', 'soyo', 'morondava', 'barrow', 'arman', 'pisco', 'tidore', 'luderitz', 'samusu', 'kapaa', 'dikson', 'karratha', 'yellowknife', 'eydhafushi', 'new norfolk', 'albany', 'lasa', 'zhigansk', 'cape town', 'tuktoyaktuk', 'rikitea', 'port elizabeth', 'mehamn', 'nemuro', 'hermanus', 'conceicao do araguaia', 'san luis', 'lompoc', 'penticton', 'hobart', 'karasburg', 'faya', 'sangar', 'kruisfontein', 'tarudant', 'usak', 'praia da vitoria', 'airai', 'kaitangata', 'hilo', 'cockburn harbour', 'mabaruma', 'mwanza', 'galiwinku', 'taolanaro', 'khatanga', 'mataura', 'kodiak', 'provideniya', 'chenzhou', 'bredasdorp', 'guerrero negro', 'burns lake', 'alofi', 'constitucion', 'fairbanks', 'attawapiskat', 'havelock', 'sumenep', 'avarua', 'nouadhibou', 'belushya guba', 'dudinka', 'ushuaia', 'hovd', 'faanui', 'buariki', 'torbay', 'busselton', 'choix', 'iqaluit', 'halalo', 'pevek', 'tiruvottiyur', 'viedma', 'kurilsk', 'nuuk', 'jamestown', 'illoqqortoormiut', 'port hardy', 'geraldton', 'bluff', 'ler', 'korocha', 'vaini', 'mys shmidta', 'hudson bay', 'poronaysk', 'veraval', 'beloha', 'okha', 'biak', 'saskylakh', 'porto walter', 'laguna', 'qaanaaq', 'berlevag', 'stornoway', 'mount gambier', 'port alfred', 'arraial do cabo', 'muros', 'sao filipe', 'severo-kurilsk', 'sentyabrskiy', 'thompson', 'dingle', 'inuvik', 'el limon', 'amderma', 'chapais', 'beringovskiy', 'hami', 'barentsburg', 'vryburg', 'ossora', 'port lincoln', 'punta arenas', 'zyryanka', 'port hedland', 'inta', 'bilibino', 'oranjemund', 'nara', 'sola', 'tieling', 'norman wells', 'bethel', 'kargasok', 'tabou', 'suluq', 'kavaratti', 'yoichi', 'sao gabriel da cachoeira', 'nador', 'longlac', 'atuona', 'kununurra', 'san policarpo', 'belaya gora', 'datong', 'oktyabrskoye', 'ostrovnoy', 'ivnya', 'eau claire', 'saint thomas', 'upernavik', 'caronport', 'gizo', 'carnduff', 'fort nelson', 'santa rosa', 'atasu', 'la ronge', 'grand river south east', 'port-cartier', 'sakakah', 'seminole', 'cherskiy', 'tsihombe', 'kushmurun', 'lahaina', 'victoria', 'naze', 'anito', 'saint george', 'puerto ayora', 'deputatskiy', 'abu samrah', 'laguna de perlas', 'souillac', 'carutapera', 'jurm', 'mar del plata', 'yenagoa', 'guymon', 'ancud', 'waingapu', 'sanmenxia', 'thoen', 'saldanha', 'cabo rojo', 'bend', 'yerbogachen', 'grao mogol', 'vardo', 'tumannyy', 'vestmanna', 'port hawkesbury', 'xacmaz', 'ngama', 'chokurdakh', 'manali', 'hobyo', 'georgetown', 'twin falls', 'hasaki', 'college', 'butaritari', 'isangel', 'tigil', 'poso', 'codrington', 'lagunas', 'vila franca do campo', 'borogontsy', 'zaysan', 'altamira', 'magalia', 'walvis bay', 'clyde river', 'grindavik', 'takoradi', 'rodnykove', 'okitipupa', 'aklavik', 'kavieng', 'khonuu', 'thunder bay', 'carnarvon', 'cracow', 'richards bay', 'tulun', 'nizhneyansk', 'leopoldina', 'roebourne', 'bathsheba', 'derzhavinsk', 'oranjestad', 'east london', 'itarema', 'asau', 'shelburne', 'longyearbyen', 'tuatapere', 'hof', 'sinjai', 'dongsheng', 'boone', 'whyalla', 'chaplynka', 'hirara', 'tautira', 'cabo san lucas', 'ahumada', 'sambava', 'bacolod', 'sheridan', 'khormuj', 'nikolskoye', 'matara', 'tasiilaq', 'vaitupu', 'katsuura', 'inzhavino', 'jieshi', 'teya', 'adelaide', 'sibiti', 'lavumisa', 'pemangkat', 'pangnirtung', 'northam', 'cidreira', 'monte alegre', 'flin flon', 'vredendal', 'hithadhoo', 'poitiers', 'umm kaddadah', 'novobirilyussy', 'sitka', 'dombarovskiy', 'imst', 'ribeira grande', 'kushiro', 'puerto narino', 'bambous virieux', 'novokayakent', 'belmonte', 'castro', 'bilma', 'todos santos', 'san antonio', 'loding', 'shush', 'vanimo', 'tasbuget', 'pasir gudang', 'oktyabrskiy', 'amapa', 'ajra', 'cubara', 'vostok', 'labuhan', 'ndioum', 'ghimes-faget', 'ahipara', 'falealupo', 'lebu', 'sidney', 'cocal', 'umm lajj', 'orange cove', 'nome', 'alugan', 'bengkulu', 'bolotnoye', 'westport', 'waitakere', 'labytnangi', 'saleaula', 'aracati', 'salinopolis', 'pueblo bello', 'rosetta', 'rocha', 'jaumave', 'dedougou', 'tiksi', 'socorro', 'flinders', 'timizart', 'talnakh', 'saint-joseph', 'zambezi', 'ponta do sol', 'skibbereen', 'dromolaxia', 'manavalakurichi', 'mayo', 'baykit', 'leh', 'honavar', 'yaan', 'bacuit', 'colotlan', 'ibiruba', 'yar-sale', 'amalapuram', 'tual', 'uarini', 'bam', 'nanakuli', 'marzuq', 'saint-augustin', 'ilulissat', 'atambua', 'caravelas', 'suba', 'abilene', 'rommerskirchen', 'okakarara', 'weligama', 'jacareacanga', 'ramon castilla', 'bolobo', 'shache', 'hastings', 'pastos bons', 'pleasanton', 'saint-philippe', 'lagoa', 'inza', 'ormara', 'divnomorskoye', 'palmeiras de goias', 'road town', 'karchaghbyur', 'karasjok', 'lucea', 'padang', 'warrnambool', 'linxia', 'antalaha', 'marystown', 'kenai', 'mindelo', 'glendive', 'khor', 'gobabis', 'cayenne', 'vao', 'fort smith', 'boden', 'grand-santi', 'tupik', 'bonthe', 'bojnurd', 'balykshi', 'misratah', 'andenes', 'hsinchu', 'dzhebariki-khaya', 'utiroa', 'eureka', 'tabuk', 'sinnamary', 'haines junction', 'hofn', 'skelleftea', 'leningradskiy', 'adre', 'krasnyy chikoy', 'ardistan', 'bocaiuva', 'khailar', 'nioki', 'lata', 'sampit', 'boca do acre', 'ust-ordynskiy', 'wichita falls', 'klaksvik', 'lima', 'sao joao da barra', 'nanortalik', 'varhaug', 'nizhniy kuranakh', 'thinadhoo', 'portland', 'rio gallegos', 'hearst', 'san cristobal', 'wulanhaote', 'lazaro cardenas', 'reus', 'touros', 'lira', 'sobolevo', 'preobrazheniye', 'banda aceh', 'kazalinsk', 'broken hill', 'miraflores', 'anadyr', 'dunedin', 'komsomolskiy', 'ust-bolsheretsk', 'bati', 'torres', 'mrirt', 'fez', 'nurota', 'labuan', 'strunino', 'kampot', 'vila velha', 'kathmandu', 'tsienyane', 'honningsvag', 'macamic', 'corowa', 'lenger', 'wahran', 'whitehorse', 'minna', 'aksarayskiy', 'kirkenes', 'inderborskiy', 'jasper', 'cururupu', 'arecibo', 'huazolotitlan', 'brokopondo', 'kuva', 'sun valley', 'nabire', 'liverpool', 'erdenet', 'keflavik', 'esperance', 'moa', 'husavik', 'visby', 'te anau', 'damghan', 'kumluca', 'makung', 'alekseyevka', 'puerto baquerizo moreno', 'rawson', 'ewa beach', 'narsaq', 'gamba', 'saryshagan', 'la orilla', 'aiken', 'coquimbo', 'fare', 'kletskaya', 'shushenskoye', 'farafangana', 'kattivakkam', 'alekseyevsk', 'lavrentiya', 'longkou', 'ngukurr', 'puerto maldonado', 'port blair', 'mnogovershinnyy', 'bani', 'chunskiy', 'balancan', 'mercedes', 'taoudenni', 'acapulco', 'sauda', 'shcholkine', 'tarko-sale', 'serenje', 'japura', 'necochea', 'lolua', 'huarmey', 'edd', 'grand gaube', 'saint anthony', 'melbu', 'xingyi', 'sayyan', 'noshiro', 'waw', 'goderich', 'vinces', 'ipixuna', 'mahebourg', 'tura', 'asfi', 'hokitika', 'namibe', 'parfenyevo', 'zhongxing', 'talakan', 'poya', 'najran', 'mitsamiouli', 'ust-maya', 'yelan-kolenovskiy', 'novyy kostek', 'fortuna', 'hervey bay', 'pokaran', 'kegayli', 'adra', 'dharchula', 'hamilton', 'namatanai', 'bur gabo', 'carmen', 'okhotsk', 'surt', 'novaya zaimka', 'gumushane', 'wad rawah', 'valjevo', 'itabirito', 'marcona', 'bismarck', 'phan thiet', 'kourou', 'hermiston', 'jenbach', 'pacific grove', 'uige', 'auki', 'shingu', 'bubaque', 'mumford', 'sukhobezvodnoye', 'brockville', 'sorong', 'atar', 'cimislia', 'aksha', 'mount holly', 'paita', 'santa ana', 'chara', 'cockburn town', 'springdale', 'vaitape', 'puerto carreno', 'chakia', 'carauari', 'balkanabat', 'bhatkal', 'ventspils', 'alotau', 'toamasina', 'rantauprapat', 'serro', 'srikakulam', 'basco', 'shuiji', 'makakilo city', 'samarai', 'aykhal', 'batsfjord', 'oistins', 'eirunepe', 'krutinka', 'kozienice', 'pombia', 'guekedou', 'north platte', 'kailua', 'csongrad', 'khandbari', 'lahan', 'kyrylivka', 'phonhong', 'pasni', 'byron bay', 'sawakin', 'huilong', 'terme', 'bundaberg', 'los llanos de aridane', 'umzimvubu', 'emba', 'bargal', 'galle', 'pierre', 'puerto escondido', 'adrar', 'isabela', 'rio grande', 'arroyo', 'washougal', 'manado']\n"
     ]
    }
   ],
   "source": [
    "print(cities)"
   ]
  },
  {
   "cell_type": "markdown",
   "metadata": {},
   "source": [
    "## Perform API Calls"
   ]
  },
  {
   "cell_type": "code",
   "execution_count": 36,
   "metadata": {},
   "outputs": [],
   "source": [
    "# OpenWeatherMap API Key\n",
    "api_key = \"2df2d5a3090c8287ba418013b5494eca\"\n",
    "\n",
    "# Starting URL for Weather Map API Call\n",
    "url = \"http://api.openweathermap.org/data/2.5/weather?units=Imperial&APPID=\"\n",
    "\n"
   ]
  },
  {
   "cell_type": "code",
   "execution_count": 42,
   "metadata": {},
   "outputs": [],
   "source": [
    "temp = []\n",
    "humidity = []\n",
    "cloudliness = []\n",
    "wind_speed = []\n",
    "\n",
    "for city in cities:\n",
    "    query_url = url + api_key + \"&q=\" + city\n",
    "    weather_response = requests.get(query_url).json()\n",
    "    "
   ]
  },
  {
   "cell_type": "code",
   "execution_count": 43,
   "metadata": {},
   "outputs": [
    {
     "name": "stdout",
     "output_type": "stream",
     "text": [
      "{'coord': {'lon': 124.85, 'lat': 1.49}, 'weather': [{'id': 801, 'main': 'Clouds', 'description': 'few clouds', 'icon': '02n'}], 'base': 'stations', 'main': {'temp': 73.4, 'pressure': 1009, 'humidity': 94, 'temp_min': 73.4, 'temp_max': 73.4}, 'visibility': 10000, 'wind': {'speed': 1.12}, 'clouds': {'all': 20}, 'dt': 1538508600, 'sys': {'type': 1, 'id': 8012, 'message': 0.0041, 'country': 'ID', 'sunrise': 1538429216, 'sunset': 1538472759}, 'id': 1636544, 'name': 'Manado', 'cod': 200}\n"
     ]
    }
   ],
   "source": [
    "print(weather_response)"
   ]
  },
  {
   "cell_type": "code",
   "execution_count": null,
   "metadata": {},
   "outputs": [],
   "source": []
  }
 ],
 "metadata": {
  "anaconda-cloud": {},
  "kernelspec": {
   "display_name": "Python 3",
   "language": "python",
   "name": "python3"
  },
  "language_info": {
   "codemirror_mode": {
    "name": "ipython",
    "version": 3
   },
   "file_extension": ".py",
   "mimetype": "text/x-python",
   "name": "python",
   "nbconvert_exporter": "python",
   "pygments_lexer": "ipython3",
   "version": "3.6.5"
  }
 },
 "nbformat": 4,
 "nbformat_minor": 1
}
